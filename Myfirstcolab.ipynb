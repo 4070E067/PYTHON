{
  "nbformat": 4,
  "nbformat_minor": 0,
  "metadata": {
    "colab": {
      "name": "Myfirstcolab.ipynb",
      "version": "0.3.2",
      "provenance": [],
      "collapsed_sections": [],
      "include_colab_link": true
    },
    "kernelspec": {
      "name": "python3",
      "display_name": "Python 3"
    }
  },
  "cells": [
    {
      "cell_type": "markdown",
      "metadata": {
        "id": "view-in-github",
        "colab_type": "text"
      },
      "source": [
        "<a href=\"https://colab.research.google.com/github/4070E067/PYTHON/blob/master/Myfirstcolab.ipynb\" target=\"_parent\"><img src=\"https://colab.research.google.com/assets/colab-badge.svg\" alt=\"Open In Colab\"/></a>"
      ]
    },
    {
      "metadata": {
        "id": "Y136AtyTmhC_",
        "colab_type": "code",
        "colab": {
          "base_uri": "https://localhost:8080/",
          "height": 34
        },
        "outputId": "dcab1238-ebc0-40af-8f54-a9bd6e218757"
      },
      "cell_type": "code",
      "source": [
        "import tensorflow as tf\n",
        "from tensorflow import keras\n",
        "\n",
        "# Helper libraries\n",
        "import numpy as np\n",
        "import matplotlib.pyplot as plt\n",
        "\n",
        "print(tf.__version__)"
      ],
      "execution_count": 1,
      "outputs": [
        {
          "output_type": "stream",
          "text": [
            "1.12.0-rc1\n"
          ],
          "name": "stdout"
        }
      ]
    },
    {
      "metadata": {
        "id": "WHek-QwBnGwI",
        "colab_type": "code",
        "colab": {
          "base_uri": "https://localhost:8080/",
          "height": 68
        },
        "outputId": "81db2d0b-f336-4bfc-dada-2927055b57db"
      },
      "cell_type": "code",
      "source": [
        "# -*- coding: UTF-8 -*-\n",
        " \n",
        "# Filename : test.py\n",
        "# author by : www.runoob.com\n",
        " \n",
        "# 用户输入数字\n",
        "num1 = input('输入第一个数字：')\n",
        "num2 = input('输入第二个数字：')\n",
        " \n",
        "# 求和\n",
        "sum = float(num1) + float(num2)\n",
        " \n",
        "# 显示计算结果\n",
        "print('数字 {0} 和 {1} 相加结果为： {2}'.format(num1, num2, sum))"
      ],
      "execution_count": 2,
      "outputs": [
        {
          "output_type": "stream",
          "text": [
            "输入第一个数字：69\n",
            "输入第二个数字：66\n",
            "数字 69 和 66 相加结果为： 135.0\n"
          ],
          "name": "stdout"
        }
      ]
    },
    {
      "metadata": {
        "id": "2H6sZUQ8phKf",
        "colab_type": "code",
        "colab": {
          "base_uri": "https://localhost:8080/",
          "height": 34
        },
        "outputId": "55669ea2-5d28-4ed3-acc9-27fc17e6bd4c"
      },
      "cell_type": "code",
      "source": [
        "import os\n",
        "\n",
        "os.listdir(\".\")"
      ],
      "execution_count": 3,
      "outputs": [
        {
          "output_type": "execute_result",
          "data": {
            "text/plain": [
              "['.config', 'sample_data']"
            ]
          },
          "metadata": {
            "tags": []
          },
          "execution_count": 3
        }
      ]
    },
    {
      "metadata": {
        "id": "wPYAnx4HppE_",
        "colab_type": "code",
        "colab": {
          "base_uri": "https://localhost:8080/",
          "height": 425
        },
        "outputId": "7f8ef6bd-ca01-485f-cd68-a7dee3cd203a"
      },
      "cell_type": "code",
      "source": [
        "import os\n",
        "\n",
        "os.listdir(\"..\")"
      ],
      "execution_count": 4,
      "outputs": [
        {
          "output_type": "execute_result",
          "data": {
            "text/plain": [
              "['sys',\n",
              " 'dev',\n",
              " 'usr',\n",
              " 'etc',\n",
              " 'var',\n",
              " 'srv',\n",
              " 'bin',\n",
              " 'mnt',\n",
              " 'media',\n",
              " 'lib64',\n",
              " 'opt',\n",
              " 'run',\n",
              " 'proc',\n",
              " 'home',\n",
              " 'sbin',\n",
              " 'tmp',\n",
              " 'root',\n",
              " 'boot',\n",
              " 'lib',\n",
              " '.dockerenv',\n",
              " 'content',\n",
              " 'colabtools',\n",
              " 'tools',\n",
              " 'datalab']"
            ]
          },
          "metadata": {
            "tags": []
          },
          "execution_count": 4
        }
      ]
    },
    {
      "metadata": {
        "id": "1WYj4sfipsPH",
        "colab_type": "code",
        "colab": {
          "base_uri": "https://localhost:8080/",
          "height": 1462
        },
        "outputId": "8048896e-8598-4cec-e03e-b6a3fbad4b8d"
      },
      "cell_type": "code",
      "source": [
        "import os\n",
        "\n",
        "os.listdir(\"../bin\")"
      ],
      "execution_count": 5,
      "outputs": [
        {
          "output_type": "execute_result",
          "data": {
            "text/plain": [
              "['dd',\n",
              " 'mv',\n",
              " 'nisdomainname',\n",
              " 'gzexe',\n",
              " 'fgrep',\n",
              " 'ln',\n",
              " 'zgrep',\n",
              " 'bzgrep',\n",
              " 'pwd',\n",
              " 'znew',\n",
              " 'sh',\n",
              " 'readlink',\n",
              " 'bzcat',\n",
              " 'hostname',\n",
              " 'zcat',\n",
              " 'chown',\n",
              " 'bzdiff',\n",
              " 'sh.distrib',\n",
              " 'true',\n",
              " 'bzless',\n",
              " 'tar',\n",
              " 'egrep',\n",
              " 'echo',\n",
              " 'stty',\n",
              " 'vdir',\n",
              " 'cp',\n",
              " 'domainname',\n",
              " 'sync',\n",
              " 'dnsdomainname',\n",
              " 'zmore',\n",
              " 'lsblk',\n",
              " 'wdctl',\n",
              " 'bzmore',\n",
              " 'grep',\n",
              " 'tempfile',\n",
              " 'gunzip',\n",
              " 'findmnt',\n",
              " 'mount',\n",
              " 'mkdir',\n",
              " 'rmdir',\n",
              " 'rbash',\n",
              " 'bzegrep',\n",
              " 'zdiff',\n",
              " 'login',\n",
              " 'touch',\n",
              " 'run-parts',\n",
              " 'ypdomainname',\n",
              " 'uname',\n",
              " 'ls',\n",
              " 'bzfgrep',\n",
              " 'bunzip2',\n",
              " 'ps',\n",
              " 'chmod',\n",
              " 'df',\n",
              " 'which',\n",
              " 'zegrep',\n",
              " 'mknod',\n",
              " 'date',\n",
              " 'kill',\n",
              " 'bzexe',\n",
              " 'zcmp',\n",
              " 'gzip',\n",
              " 'cat',\n",
              " 'pidof',\n",
              " 'zfgrep',\n",
              " 'umount',\n",
              " 'dir',\n",
              " 'bzcmp',\n",
              " 'su',\n",
              " 'more',\n",
              " 'bash',\n",
              " 'zforce',\n",
              " 'dash',\n",
              " 'zless',\n",
              " 'dmesg',\n",
              " 'chgrp',\n",
              " 'sed',\n",
              " 'bzip2',\n",
              " 'sleep',\n",
              " 'false',\n",
              " 'mktemp',\n",
              " 'uncompress',\n",
              " 'rm',\n",
              " 'bzip2recover',\n",
              " 'mountpoint']"
            ]
          },
          "metadata": {
            "tags": []
          },
          "execution_count": 5
        }
      ]
    },
    {
      "metadata": {
        "id": "DXuqLB5j2nAw",
        "colab_type": "code",
        "colab": {
          "base_uri": "https://localhost:8080/",
          "height": 170
        },
        "outputId": "8acbc77c-7167-4392-95ca-4ad984c7774b"
      },
      "cell_type": "code",
      "source": [
        "# -*- coding: UTF-8 -*-\n",
        " \n",
        "# Filename : test.py\n",
        "# author by : www.runoob.com\n",
        " \n",
        "# 九九乘法表\n",
        "for i in range(1, 10):\n",
        "    for j in range(1, i+1):\n",
        "        print('{}x{}={}\\t'.format(j, i, i*j), end='')\n",
        "    print()"
      ],
      "execution_count": 8,
      "outputs": [
        {
          "output_type": "stream",
          "text": [
            "1x1=1\t\n",
            "1x2=2\t2x2=4\t\n",
            "1x3=3\t2x3=6\t3x3=9\t\n",
            "1x4=4\t2x4=8\t3x4=12\t4x4=16\t\n",
            "1x5=5\t2x5=10\t3x5=15\t4x5=20\t5x5=25\t\n",
            "1x6=6\t2x6=12\t3x6=18\t4x6=24\t5x6=30\t6x6=36\t\n",
            "1x7=7\t2x7=14\t3x7=21\t4x7=28\t5x7=35\t6x7=42\t7x7=49\t\n",
            "1x8=8\t2x8=16\t3x8=24\t4x8=32\t5x8=40\t6x8=48\t7x8=56\t8x8=64\t\n",
            "1x9=9\t2x9=18\t3x9=27\t4x9=36\t5x9=45\t6x9=54\t7x9=63\t8x9=72\t9x9=81\t\n"
          ],
          "name": "stdout"
        }
      ]
    },
    {
      "metadata": {
        "id": "iBgsOBx130zn",
        "colab_type": "code",
        "colab": {
          "base_uri": "https://localhost:8080/",
          "height": 51
        },
        "outputId": "b4da9cec-62f9-41e5-f7ab-a6d02da6a323"
      },
      "cell_type": "code",
      "source": [
        "# -*- coding: UTF-8 -*-\n",
        " \n",
        "# Filename : test.py\n",
        "# author by : www.runoob.com\n",
        " \n",
        "num = float(input('请输入一个数字： '))\n",
        "num_sqrt = num ** 0.5\n",
        "print(' %0.3f 的平方根为 %0.3f'%(num ,num_sqrt))"
      ],
      "execution_count": 10,
      "outputs": [
        {
          "output_type": "stream",
          "text": [
            "请输入一个数字： 69\n",
            " 69.000 的平方根为 8.307\n"
          ],
          "name": "stdout"
        }
      ]
    },
    {
      "metadata": {
        "id": "spu5Jcwv4DHp",
        "colab_type": "code",
        "colab": {
          "base_uri": "https://localhost:8080/",
          "height": 51
        },
        "outputId": "74903628-e6fa-46e4-8a2a-a65cae82af0f"
      },
      "cell_type": "code",
      "source": [
        "# -*- coding: UTF-8 -*-\n",
        " \n",
        "# Filename : test.py\n",
        "# author by : www.runoob.com\n",
        " \n",
        "# 用户输入摄氏温度\n",
        " \n",
        "# 接收用户输入\n",
        "celsius = float(input('输入摄氏温度: '))\n",
        " \n",
        "# 计算华氏温度\n",
        "fahrenheit = (celsius * 1.8) + 32\n",
        "print('%0.1f 摄氏温度转为华氏温度为 %0.1f ' %(celsius,fahrenheit))"
      ],
      "execution_count": 11,
      "outputs": [
        {
          "output_type": "stream",
          "text": [
            "输入摄氏温度: 38\n",
            "38.0 摄氏温度转为华氏温度为 100.4 \n"
          ],
          "name": "stdout"
        }
      ]
    },
    {
      "metadata": {
        "id": "RJsdRBT_4JxX",
        "colab_type": "code",
        "colab": {
          "base_uri": "https://localhost:8080/",
          "height": 102
        },
        "outputId": "b83ed47a-ea11-457f-aec7-8d8cbbcd91f8"
      },
      "cell_type": "code",
      "source": [
        "# -*- coding: UTF-8 -*-\n",
        " \n",
        "# Filename : test.py\n",
        "# author by : www.runoob.com\n",
        " \n",
        "# 获取用户输入十进制数\n",
        "dec = int(input(\"输入数字：\"))\n",
        " \n",
        "print(\"十进制数为：\", dec)\n",
        "print(\"转换为二进制为：\", bin(dec))\n",
        "print(\"转换为八进制为：\", oct(dec))\n",
        "print(\"转换为十六进制为：\", hex(dec))"
      ],
      "execution_count": 12,
      "outputs": [
        {
          "output_type": "stream",
          "text": [
            "输入数字：69\n",
            "十进制数为： 69\n",
            "转换为二进制为： 0b1000101\n",
            "转换为八进制为： 0o105\n",
            "转换为十六进制为： 0x45\n"
          ],
          "name": "stdout"
        }
      ]
    },
    {
      "metadata": {
        "id": "JlG5cq1d4PuY",
        "colab_type": "code",
        "colab": {
          "base_uri": "https://localhost:8080/",
          "height": 85
        },
        "outputId": "11807380-bf2c-4e77-e27e-1ce28a144027"
      },
      "cell_type": "code",
      "source": [
        "# Filename : test.py\n",
        "# author by : www.runoob.com\n",
        " \n",
        "# 用户输入字符\n",
        "c = input(\"请输入一个字符: \")\n",
        " \n",
        "# 用户输入ASCII码，并将输入的数字转为整型\n",
        "a = int(input(\"请输入一个ASCII码: \"))\n",
        " \n",
        " \n",
        "print( c + \" 的ASCII 码为\", ord(c))\n",
        "print( a , \" 对应的字符为\", chr(a))"
      ],
      "execution_count": 13,
      "outputs": [
        {
          "output_type": "stream",
          "text": [
            "请输入一个字符: a\n",
            "请输入一个ASCII码: 85\n",
            "a 的ASCII 码为 97\n",
            "85  对应的字符为 U\n"
          ],
          "name": "stdout"
        }
      ]
    },
    {
      "metadata": {
        "id": "tWbdTsRW4X9f",
        "colab_type": "code",
        "colab": {
          "base_uri": "https://localhost:8080/",
          "height": 34
        },
        "outputId": "cf96c9fd-045c-47fd-a59a-bd8c15e45948"
      },
      "cell_type": "code",
      "source": [
        "#!/usr/bin/python3\n",
        "# author by : www.runoob.com\n",
        " \n",
        "import calendar\n",
        "monthRange = calendar.monthrange(2016,9)\n",
        "print(monthRange)"
      ],
      "execution_count": 14,
      "outputs": [
        {
          "output_type": "stream",
          "text": [
            "(3, 30)\n"
          ],
          "name": "stdout"
        }
      ]
    },
    {
      "metadata": {
        "id": "Reyq-8Zj4dhn",
        "colab_type": "code",
        "colab": {
          "base_uri": "https://localhost:8080/",
          "height": 187
        },
        "outputId": "6e40af02-409f-4008-a1ef-ba8793f17f16"
      },
      "cell_type": "code",
      "source": [
        "# Filename : test.py\n",
        "# author by : www.runoob.com\n",
        " \n",
        "# 引入日历模块\n",
        "import calendar\n",
        " \n",
        "# 输入指定年月\n",
        "yy = int(input(\"输入年份: \"))\n",
        "mm = int(input(\"输入月份: \"))\n",
        " \n",
        "# 显示日历\n",
        "print(calendar.month(yy,mm))"
      ],
      "execution_count": 15,
      "outputs": [
        {
          "output_type": "stream",
          "text": [
            "输入年份: 2000\n",
            "输入月份: 2\n",
            "   February 2000\n",
            "Mo Tu We Th Fr Sa Su\n",
            "    1  2  3  4  5  6\n",
            " 7  8  9 10 11 12 13\n",
            "14 15 16 17 18 19 20\n",
            "21 22 23 24 25 26 27\n",
            "28 29\n",
            "\n"
          ],
          "name": "stdout"
        }
      ]
    },
    {
      "metadata": {
        "id": "npCiz8X04ln3",
        "colab_type": "code",
        "colab": {
          "base_uri": "https://localhost:8080/",
          "height": 34
        },
        "outputId": "28c05d79-e8aa-4822-d3ee-2590f25d3865"
      },
      "cell_type": "code",
      "source": [
        "# -*- coding: UTF-8 -*-\n",
        " \n",
        "# Filename : test.py\n",
        "# author by : www.runoob.com\n",
        " \n",
        "# 生成 0 ~ 9 之间的随机数\n",
        " \n",
        "# 导入 random(随机数) 模块\n",
        "import random\n",
        " \n",
        "print(random.randint(0,9))"
      ],
      "execution_count": 16,
      "outputs": [
        {
          "output_type": "stream",
          "text": [
            "8\n"
          ],
          "name": "stdout"
        }
      ]
    },
    {
      "metadata": {
        "id": "lci1wvD44pOP",
        "colab_type": "code",
        "colab": {
          "base_uri": "https://localhost:8080/",
          "height": 51
        },
        "outputId": "93867bde-b858-4794-805d-dda7c463b8ce"
      },
      "cell_type": "code",
      "source": [
        "# Filename : test.py\n",
        "# author by : www.runoob.com\n",
        " \n",
        "# 用户输入数字\n",
        " \n",
        "num = float(input(\"输入一个数字: \"))\n",
        "if num > 0:\n",
        "   print(\"正数\")\n",
        "elif num == 0:\n",
        "   print(\"零\")\n",
        "else:\n",
        "   print(\"负数\")"
      ],
      "execution_count": 17,
      "outputs": [
        {
          "output_type": "stream",
          "text": [
            "输入一个数字: -8\n",
            "负数\n"
          ],
          "name": "stdout"
        }
      ]
    },
    {
      "metadata": {
        "id": "j1UhFp0A4ttP",
        "colab_type": "code",
        "colab": {
          "base_uri": "https://localhost:8080/",
          "height": 51
        },
        "outputId": "b1f33158-25fd-48e5-ad0b-b9cc39a43c7d"
      },
      "cell_type": "code",
      "source": [
        "#!/usr/bin/python3\n",
        " \n",
        "# Filename : test.py\n",
        "# author by : www.runoob.com\n",
        " \n",
        "# 通过用户输入数字计算阶乘\n",
        " \n",
        "# 获取用户输入的数字\n",
        "num = int(input(\"请输入一个数字: \"))\n",
        "factorial = 1\n",
        " \n",
        "# 查看数字是负数，0 或 正数\n",
        "if num < 0:\n",
        "   print(\"抱歉，负数没有阶乘\")\n",
        "elif num == 0:\n",
        "   print(\"0 的阶乘为 1\")\n",
        "else:\n",
        "   for i in range(1,num + 1):\n",
        "       factorial = factorial*i\n",
        "   print(\"%d 的阶乘为 %d\" %(num,factorial))"
      ],
      "execution_count": 4,
      "outputs": [
        {
          "output_type": "stream",
          "text": [
            "请输入一个数字: 5\n",
            "5 的阶乘为 120\n"
          ],
          "name": "stdout"
        }
      ]
    },
    {
      "metadata": {
        "id": "bS8_vTiP0lMX",
        "colab_type": "text"
      },
      "cell_type": "markdown",
      "source": [
        "### Chapter 1\n",
        "這是我的第一章練習"
      ]
    },
    {
      "metadata": {
        "id": "QJxkUO8WxdcI",
        "colab_type": "code",
        "colab": {
          "base_uri": "https://localhost:8080/",
          "height": 51
        },
        "outputId": "103f54f3-3ec2-49b5-916b-b1a5486a8741"
      },
      "cell_type": "code",
      "source": [
        "# Display two messages\n",
        "print(\"這是我的python作業\")\n",
        "print(\"Python 真有趣\")\n",
        "\n"
      ],
      "execution_count": 18,
      "outputs": [
        {
          "output_type": "stream",
          "text": [
            "這是我的python作業\n",
            "Python 真有趣\n"
          ],
          "name": "stdout"
        }
      ]
    },
    {
      "metadata": {
        "id": "XyrU2i3fz414",
        "colab_type": "code",
        "colab": {
          "base_uri": "https://localhost:8080/",
          "height": 68
        },
        "outputId": "a0b3722b-6fbe-4acb-9763-94844f8bc27d"
      },
      "cell_type": "code",
      "source": [
        "# Display two messages\n",
        "print(\"這是我的python作業\")\n",
        "print(\"Python 真有趣\")\n",
        "print(\"偉大恩師\")  \n"
      ],
      "execution_count": 19,
      "outputs": [
        {
          "output_type": "stream",
          "text": [
            "這是我的python作業\n",
            "Python 真有趣\n",
            "偉大恩師\n"
          ],
          "name": "stdout"
        }
      ]
    },
    {
      "metadata": {
        "colab_type": "text",
        "id": "SDsoeYYk2mFp"
      },
      "cell_type": "markdown",
      "source": [
        "### Chapter 2\n",
        "這是我的第二章練習"
      ]
    },
    {
      "metadata": {
        "id": "WA7rseCK3N6n",
        "colab_type": "code",
        "colab": {
          "base_uri": "https://localhost:8080/",
          "height": 34
        },
        "outputId": "4e61dcc6-e620-4d4d-eaed-12079fd5adb8"
      },
      "cell_type": "code",
      "source": [
        "# Assign a radius\n",
        "radius = 28 # radius is now 20\n",
        "\n",
        "# Compute area\n",
        "area = radius * radius * 3.14159\n",
        "\n",
        "# Display results\n",
        "print(\"The area for the circle of radius\", radius, \"is\", area)"
      ],
      "execution_count": 21,
      "outputs": [
        {
          "output_type": "stream",
          "text": [
            "The area for the circle of radius 28 is 2463.00656\n"
          ],
          "name": "stdout"
        }
      ]
    },
    {
      "metadata": {
        "id": "kDxSvIKG3pfB",
        "colab_type": "code",
        "colab": {
          "base_uri": "https://localhost:8080/",
          "height": 51
        },
        "outputId": "e258dfe2-4c80-40eb-ffab-8bac84aa3b49"
      },
      "cell_type": "code",
      "source": [
        "# Prompt the user to enter a radius\n",
        "radius = eval(input(\"Enter a number for radius: \"))\n",
        "\n",
        "# Compute area\n",
        "#啥挖歌 跨某\n",
        "area = radius * radius * 20178\n",
        "\n",
        "# Display results\n",
        "print(\"The area for the circle of radius\", radius, \"is\", area)\n"
      ],
      "execution_count": 26,
      "outputs": [
        {
          "output_type": "stream",
          "text": [
            "Enter a number for radius: 20\n",
            "The area for the circle of radius 20 is 8071200\n"
          ],
          "name": "stdout"
        }
      ]
    },
    {
      "metadata": {
        "id": "lrDI1dJd38Vo",
        "colab_type": "code",
        "colab": {
          "base_uri": "https://localhost:8080/",
          "height": 85
        },
        "outputId": "edb7f23a-ece0-4007-9973-33129a2357ae"
      },
      "cell_type": "code",
      "source": [
        "# Prompt the user to enter three numbers\n",
        "number1 = eval(input(\"Enter the first number: \"))\n",
        "number2 = eval(input(\"Enter the second number: \"))\n",
        "number3 = eval(input(\"Enter the third number: \"))\n",
        "\n",
        "# Compute average\n",
        "#啥挖歌 跨某\n",
        "average = (number1 + number2 + number3) / 3\n",
        "\n",
        "# Display result\n",
        "print(\"The average of\", number1, number2, number3, \n",
        "    \"is\", average)\n"
      ],
      "execution_count": 25,
      "outputs": [
        {
          "output_type": "stream",
          "text": [
            "Enter the first number: 64\n",
            "Enter the second number: 823\n",
            "Enter the third number: 911\n",
            "The average of 64 823 911 is 599.3333333333334\n"
          ],
          "name": "stdout"
        }
      ]
    },
    {
      "metadata": {
        "id": "Q2Z-sIRb5axm",
        "colab_type": "code",
        "colab": {
          "base_uri": "https://localhost:8080/",
          "height": 51
        },
        "outputId": "43afb707-f0f3-41a5-b113-4bdbea28bc82"
      },
      "cell_type": "code",
      "source": [
        "# Prompt the user for input\n",
        "seconds = eval(input(\"Enter an integer for seconds: \"))\n",
        "\n",
        "# Get minutes and remaining seconds\n",
        "minutes = seconds // 60     # Find minutes in seconds\n",
        "#啥挖歌 跨某\n",
        "remainingSeconds = seconds % 60   # Seconds remaining \n",
        "print(seconds, \"seconds is\", minutes,  \n",
        "  \"minutes and\", remainingSeconds, \"seconds\")"
      ],
      "execution_count": 27,
      "outputs": [
        {
          "output_type": "stream",
          "text": [
            "Enter an integer for seconds: 8\n",
            "8 seconds is 0 minutes and 8 seconds\n"
          ],
          "name": "stdout"
        }
      ]
    },
    {
      "metadata": {
        "id": "iG7bWA0j5xmv",
        "colab_type": "code",
        "colab": {
          "base_uri": "https://localhost:8080/",
          "height": 34
        },
        "outputId": "71f35d9c-1ff0-4e3f-cdb2-2c537ca2a8cf"
      },
      "cell_type": "code",
      "source": [
        "import time\n",
        "\n",
        "#啥碗糕 跨某\n",
        "currentTime = time.time() # Get current time\n",
        "\n",
        "# Obtain the total seconds since midnight, Jan 1, 1970\n",
        "totalSeconds = int(currentTime)\n",
        "\n",
        "# Get the current second \n",
        "currentSecond = totalSeconds % 60 \n",
        "\n",
        "# Obtain the total minutes\n",
        "totalMinutes = totalSeconds // 60 \n",
        "\n",
        "# Compute the current minute in the hour\n",
        "currentMinute = totalMinutes % 60\n",
        "\n",
        "# Obtain the total hours\n",
        "totalHours = totalMinutes // 60\n",
        "\n",
        "# Compute the current hour\n",
        "currentHour = totalHours % 24\n",
        "\n",
        "# Display results\n",
        "print(\"Current time is \" + str(currentHour) + \":\"\n",
        "    + str(currentMinute) + \":\" + str(currentSecond) + \" GMT\")"
      ],
      "execution_count": 28,
      "outputs": [
        {
          "output_type": "stream",
          "text": [
            "Current time is 6:18:17 GMT\n"
          ],
          "name": "stdout"
        }
      ]
    },
    {
      "metadata": {
        "colab_type": "text",
        "id": "9hLdrZxu6OH_"
      },
      "cell_type": "markdown",
      "source": [
        "### Chapter 3\n",
        "這是我的第三章練習"
      ]
    },
    {
      "metadata": {
        "id": "KwqKFsl56Xl_",
        "colab_type": "code",
        "colab": {
          "base_uri": "https://localhost:8080/",
          "height": 170
        },
        "outputId": "dc45055f-4f37-4095-c90c-876f6d87aee7"
      },
      "cell_type": "code",
      "source": [
        "import math # import Math module to use the math functions\n",
        " \n",
        "# Test algebraic functions\n",
        "print(\"exp(1.0) =\", math.exp(1))\n",
        "print(\"log(3.78) =\", math.log(math.e))\n",
        "print(\"log10(10, 10) =\", math.log(10, 10))\n",
        "print(\"sqrt(4.0) =\", math.sqrt(4.0))\n",
        " \n",
        "# Test trigonometric functions\n",
        "print(\"sin(PI / 2) =\", math.sin(math.pi / 2))\n",
        "print(\"cos(PI / 2) =\", math.cos(math.pi / 2))\n",
        "print(\"tan(PI / 2) =\", math.tan(math.pi / 2))\n",
        "print(\"degrees(1.57) =\", math.degrees(1.57))\n",
        "print(\"radians(90) =\", math.radians(90))\n"
      ],
      "execution_count": 29,
      "outputs": [
        {
          "output_type": "stream",
          "text": [
            "exp(1.0) = 2.718281828459045\n",
            "log(3.78) = 1.0\n",
            "log10(10, 10) = 1.0\n",
            "sqrt(4.0) = 2.0\n",
            "sin(PI / 2) = 1.0\n",
            "cos(PI / 2) = 6.123233995736766e-17\n",
            "tan(PI / 2) = 1.633123935319537e+16\n",
            "degrees(1.57) = 89.95437383553924\n",
            "radians(90) = 1.5707963267948966\n"
          ],
          "name": "stdout"
        }
      ]
    },
    {
      "metadata": {
        "colab_type": "text",
        "id": "qujSEboT7PEn"
      },
      "cell_type": "markdown",
      "source": [
        "### Chapter 4\n",
        "這是我的第四章練習"
      ]
    },
    {
      "metadata": {
        "id": "zFvu8EZz7cR-",
        "colab_type": "code",
        "colab": {
          "base_uri": "https://localhost:8080/",
          "height": 51
        },
        "outputId": "99b26752-aff7-4a0e-f9c3-f2921a7dfd38"
      },
      "cell_type": "code",
      "source": [
        "import random \n",
        "\n",
        "# Generate random numbers\n",
        "#啥挖歌 跨某\n",
        "number1 = random.randint(0, 9)\n",
        "number2 = random.randint(0, 9)\n",
        "\n",
        "# Prompt the user to enter an answer\n",
        "answer = eval(input(\"What is \" + str(number1) + \" + \" \n",
        "    + str(number2) + \"? \"))\n",
        "    \n",
        "# Display result    \n",
        "print(number1, \"+\", number2, \"=\", answer, \n",
        "    \"is\", number1 + number2 == answer)"
      ],
      "execution_count": 31,
      "outputs": [
        {
          "output_type": "stream",
          "text": [
            "What is 3 + 8? 11\n",
            "3 + 8 = 11 is True\n"
          ],
          "name": "stdout"
        }
      ]
    },
    {
      "metadata": {
        "id": "j8DgIpU879hH",
        "colab_type": "code",
        "colab": {
          "base_uri": "https://localhost:8080/",
          "height": 51
        },
        "outputId": "af74de36-f4fb-4b8a-a44d-1f212c8582ae"
      },
      "cell_type": "code",
      "source": [
        "number = eval(input(\"Enter an integer: \"))\n",
        "\n",
        "if number % 5 == 0 :\n",
        "   print(\"Freehug\");\n",
        "\n",
        "if number % 2 == 0 :\n",
        "   print(\"moneyhug\");"
      ],
      "execution_count": 32,
      "outputs": [
        {
          "output_type": "stream",
          "text": [
            "Enter an integer: 5\n",
            "Freehug\n"
          ],
          "name": "stdout"
        }
      ]
    },
    {
      "metadata": {
        "id": "CVUUy0UV8c0G",
        "colab_type": "code",
        "colab": {
          "base_uri": "https://localhost:8080/",
          "height": 561
        },
        "outputId": "e1d416d0-0c0c-44d5-d5f8-cc80c6523ce1"
      },
      "cell_type": "code",
      "source": [
        "day = 0 # birth day to be determined\n",
        "  \n",
        "# Prompt the user to answer the first question\n",
        "question1 = \"Is your birthday in Set1?\\n\" + \\\n",
        "    \" 1  3  5  7\\n\" + \\\n",
        "    \" 9 11 13 15\\n\" + \\\n",
        "    \"17 19 21 23\\n\" + \\\n",
        "    \"25 27 29 31\" + \\\n",
        "    \"\\nEnter 0 for No and 1 for Yes: \" \n",
        "answer = eval(input(question1))\n",
        "  \n",
        "if answer == 1:\n",
        "   day += 1\n",
        " \n",
        "# Prompt the user to answer the second question\n",
        "question2 = \"Is your birthday in Set2?\\n\" + \\\n",
        "    \" 2  3  6  7\\n\" + \\\n",
        "    \"10 11 14 15\\n\" + \\\n",
        "    \"18 19 22 23\\n\" + \\\n",
        "    \"26 27 30 31\" + \\\n",
        "    \"\\nEnter 0 for No and 1 for Yes: \" \n",
        "answer = eval(input(question2))\n",
        "  \n",
        "if answer == 1:\n",
        "   day += 2\n",
        " \n",
        "# Prompt the user to answer the third question\n",
        "question3 = \"Is your birthday in Set3?\\n\" + \\\n",
        "    \" 4  5  6  7\\n\" + \\\n",
        "    \"12 13 14 15\\n\" + \\\n",
        "    \"20 21 22 23\\n\" + \\\n",
        "    \"28 29 30 31\" + \\\n",
        "    \"\\nEnter 0 for No and 1 for Yes: \" \n",
        "answer = eval(input(question3))\n",
        "  \n",
        "if answer == 1:\n",
        "   day += 4\n",
        "  \n",
        "# Prompt the user to answer the fourth question\n",
        "question4 = \"Is your birthday in Set4?\\n\" + \\\n",
        "    \" 8  9 10 11\\n\" + \\\n",
        "    \"12 13 14 15\\n\" + \\\n",
        "    \"24 25 26 27\\n\" + \\\n",
        "    \"28 29 30 31\" + \\\n",
        "    \"\\nEnter 0 for No and 1 for Yes: \" \n",
        "answer = eval(input(question4))\n",
        "  \n",
        "if answer == 1:\n",
        "    day += 8\n",
        "  \n",
        "# Prompt the user to answer the fifth question\n",
        "question5 = \"Is your birthday in Set5?\\n\" + \\\n",
        "    \"16 17 18 19\\n\" + \\\n",
        "    \"20 21 22 23\\n\" + \\\n",
        "    \"24 25 26 27\\n\" + \\\n",
        "    \"28 29 30 31\" + \\\n",
        "    \"\\nEnter 0 for No and 1 for Yes: \" \n",
        "answer = eval(input(question5))\n",
        "  \n",
        "if answer == 1:\n",
        "    day += 16\n",
        "\n",
        "print(\"\\nYour birthday is\" + str(day) + \"!\")\n"
      ],
      "execution_count": 33,
      "outputs": [
        {
          "output_type": "stream",
          "text": [
            "Is your birthday in Set1?\n",
            " 1  3  5  7\n",
            " 9 11 13 15\n",
            "17 19 21 23\n",
            "25 27 29 31\n",
            "Enter 0 for No and 1 for Yes: 1\n",
            "Is your birthday in Set2?\n",
            " 2  3  6  7\n",
            "10 11 14 15\n",
            "18 19 22 23\n",
            "26 27 30 31\n",
            "Enter 0 for No and 1 for Yes: 1\n",
            "Is your birthday in Set3?\n",
            " 4  5  6  7\n",
            "12 13 14 15\n",
            "20 21 22 23\n",
            "28 29 30 31\n",
            "Enter 0 for No and 1 for Yes: 1\n",
            "Is your birthday in Set4?\n",
            " 8  9 10 11\n",
            "12 13 14 15\n",
            "24 25 26 27\n",
            "28 29 30 31\n",
            "Enter 0 for No and 1 for Yes: 0\n",
            "Is your birthday in Set5?\n",
            "16 17 18 19\n",
            "20 21 22 23\n",
            "24 25 26 27\n",
            "28 29 30 31\n",
            "Enter 0 for No and 1 for Yes: 0\n",
            "\n",
            "Your birthday is7!\n"
          ],
          "name": "stdout"
        }
      ]
    },
    {
      "metadata": {
        "id": "PMH0EDm89JzV",
        "colab_type": "code",
        "colab": {
          "base_uri": "https://localhost:8080/",
          "height": 51
        },
        "outputId": "701d9b1a-ae86-48b9-d43d-a4ed87289f8c"
      },
      "cell_type": "code",
      "source": [
        "import random\n",
        "\n",
        "# 1. Generate two random single-digit integers\n",
        "#啥挖歌 跨某\n",
        "number1 = random.randint(0, 9)\n",
        "number2 = random.randint(0, 9)\n",
        "\n",
        "# 2. If number1 < number2, swap number1 with number2\n",
        "if number1 < number2:\n",
        "    number1, number2 = number2, number1 # Simultaneous assignment\n",
        "\n",
        "# 4. Prompt the student to answer \"what is number1 - number2?\"\n",
        "answer = eval(input(\"What is \" + str(number1) + \" - \" + \n",
        "    str(number2) + \"? \"))\n",
        "\n",
        "# 4. Grade the answer and display the result\n",
        "if number1 - number2 == answer:\n",
        "    print(\"You are correct!\")\n",
        "else:\n",
        "    print(\"Your answer is wrong.\\n\", number1, \"-\",\n",
        "        number2, \"is\", number1 - number2)"
      ],
      "execution_count": 34,
      "outputs": [
        {
          "output_type": "stream",
          "text": [
            "What is 9 - 5? 4\n",
            "You are correct!\n"
          ],
          "name": "stdout"
        }
      ]
    },
    {
      "metadata": {
        "id": "RJ7j6yMW9YdF",
        "colab_type": "code",
        "colab": {
          "base_uri": "https://localhost:8080/",
          "height": 51
        },
        "outputId": "2ae3934c-fdfb-4c1b-d989-d97d05afc6ab"
      },
      "cell_type": "code",
      "source": [
        "year = eval(input(\"Enter a year: \"))\n",
        "zodiacYear = year % 12 \n",
        "if zodiacYear == 0:\n",
        "    print(\"monkey\")\n",
        "elif zodiacYear == 1:\n",
        "    print(\"rooster\")\n",
        "elif zodiacYear == 2:\n",
        "    print(\"dog\")\n",
        "elif zodiacYear == 3:\n",
        "    print(\"pig\")\n",
        "elif zodiacYear == 4: \n",
        "    print(\"rat\")\n",
        "elif zodiacYear == 5: \n",
        "    print(\"ox\")\n",
        "elif zodiacYear == 6:\n",
        "    print(\"tiger\")\n",
        "elif zodiacYear == 7:\n",
        "    print(\"rabbit\")\n",
        "elif zodiacYear == 8:\n",
        "    print(\"dragon\")\n",
        "elif zodiacYear == 9:\n",
        "    print(\"snake\")\n",
        "elif zodiacYear == 10:\n",
        "    print(\"horse\")\n",
        "else: \n",
        "    print(\"sheep\")\n"
      ],
      "execution_count": 36,
      "outputs": [
        {
          "output_type": "stream",
          "text": [
            "Enter a year: 2000\n",
            "dragon\n"
          ],
          "name": "stdout"
        }
      ]
    },
    {
      "metadata": {
        "id": "rKnQlstY99p2",
        "colab_type": "code",
        "colab": {
          "base_uri": "https://localhost:8080/",
          "height": 85
        },
        "outputId": "f69d8d09-238b-4405-8835-f023f7187888"
      },
      "cell_type": "code",
      "source": [
        "# Prompt the user to enter weight in pounds\n",
        "weight = eval(input(\"Enter weight in pounds: \"))\n",
        "    \n",
        "# Prompt the user to enter height in inches\n",
        "height = eval(input(\"Enter height in inches: \"))\n",
        "    \n",
        "#啥挖歌 跨某\n",
        "KILOGRAMS_PER_POUND = 0.45359237 # Constant\n",
        "METERS_PER_INCH = 0.0254 # Constant \n",
        "    \n",
        "# Compute BMI\n",
        "weightInKilograms = weight * KILOGRAMS_PER_POUND \n",
        "heightInMeters = height * METERS_PER_INCH\n",
        "bmi = weightInKilograms / (heightInMeters * heightInMeters)\n",
        "\n",
        "# Display result\n",
        "print(\"BMI is\", format(bmi, \".2f\"))\n",
        "if bmi < 18.5:\n",
        "    print(\"Underweight\")\n",
        "elif bmi < 25:\n",
        "    print(\"Normal\")\n",
        "elif bmi < 30:\n",
        "    print(\"Overweight\")\n",
        "else:\n",
        "    print(\"Obese\")"
      ],
      "execution_count": 43,
      "outputs": [
        {
          "output_type": "stream",
          "text": [
            "Enter weight in pounds: 165\n",
            "Enter height in inches: 75\n",
            "BMI is 20.62\n",
            "Normal\n"
          ],
          "name": "stdout"
        }
      ]
    },
    {
      "metadata": {
        "id": "n1Fnd29v-2uJ",
        "colab_type": "code",
        "colab": {
          "base_uri": "https://localhost:8080/",
          "height": 51
        },
        "outputId": "970cde28-b295-41a0-eb54-ff450b0cfefb"
      },
      "cell_type": "code",
      "source": [
        "year = eval(input(\"Enter a year: \"))\n",
        "\n",
        "# Check if the year is a leap year \n",
        "#啥挖歌 跨某\n",
        "isLeapYear = (year % 4 == 0 and year % 100 != 0) or \\\n",
        "   (year % 400 == 0)\n",
        "\n",
        "# Display the result \n",
        "print(year, \"is a leap year?\", isLeapYear)\n"
      ],
      "execution_count": 44,
      "outputs": [
        {
          "output_type": "stream",
          "text": [
            "Enter a year: 2000\n",
            "2000 is a leap year? True\n"
          ],
          "name": "stdout"
        }
      ]
    }
  ]
}