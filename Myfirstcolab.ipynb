{
  "nbformat": 4,
  "nbformat_minor": 0,
  "metadata": {
    "colab": {
      "name": "Myfirstcolab.ipynb",
      "version": "0.3.2",
      "provenance": [],
      "include_colab_link": true
    },
    "kernelspec": {
      "name": "python3",
      "display_name": "Python 3"
    }
  },
  "cells": [
    {
      "cell_type": "markdown",
      "metadata": {
        "id": "view-in-github",
        "colab_type": "text"
      },
      "source": [
        "<a href=\"https://colab.research.google.com/github/4070E067/PYTHON/blob/master/Myfirstcolab.ipynb\" target=\"_parent\"><img src=\"https://colab.research.google.com/assets/colab-badge.svg\" alt=\"Open In Colab\"/></a>"
      ]
    },
    {
      "metadata": {
        "id": "Y136AtyTmhC_",
        "colab_type": "code",
        "colab": {
          "base_uri": "https://localhost:8080/",
          "height": 34
        },
        "outputId": "dcab1238-ebc0-40af-8f54-a9bd6e218757"
      },
      "cell_type": "code",
      "source": [
        "import tensorflow as tf\n",
        "from tensorflow import keras\n",
        "\n",
        "# Helper libraries\n",
        "import numpy as np\n",
        "import matplotlib.pyplot as plt\n",
        "\n",
        "print(tf.__version__)"
      ],
      "execution_count": 1,
      "outputs": [
        {
          "output_type": "stream",
          "text": [
            "1.12.0-rc1\n"
          ],
          "name": "stdout"
        }
      ]
    },
    {
      "metadata": {
        "id": "WHek-QwBnGwI",
        "colab_type": "code",
        "colab": {
          "base_uri": "https://localhost:8080/",
          "height": 68
        },
        "outputId": "81db2d0b-f336-4bfc-dada-2927055b57db"
      },
      "cell_type": "code",
      "source": [
        "# -*- coding: UTF-8 -*-\n",
        " \n",
        "# Filename : test.py\n",
        "# author by : www.runoob.com\n",
        " \n",
        "# 用户输入数字\n",
        "num1 = input('输入第一个数字：')\n",
        "num2 = input('输入第二个数字：')\n",
        " \n",
        "# 求和\n",
        "sum = float(num1) + float(num2)\n",
        " \n",
        "# 显示计算结果\n",
        "print('数字 {0} 和 {1} 相加结果为： {2}'.format(num1, num2, sum))"
      ],
      "execution_count": 2,
      "outputs": [
        {
          "output_type": "stream",
          "text": [
            "输入第一个数字：69\n",
            "输入第二个数字：66\n",
            "数字 69 和 66 相加结果为： 135.0\n"
          ],
          "name": "stdout"
        }
      ]
    },
    {
      "metadata": {
        "id": "2H6sZUQ8phKf",
        "colab_type": "code",
        "colab": {
          "base_uri": "https://localhost:8080/",
          "height": 34
        },
        "outputId": "55669ea2-5d28-4ed3-acc9-27fc17e6bd4c"
      },
      "cell_type": "code",
      "source": [
        "import os\n",
        "\n",
        "os.listdir(\".\")"
      ],
      "execution_count": 3,
      "outputs": [
        {
          "output_type": "execute_result",
          "data": {
            "text/plain": [
              "['.config', 'sample_data']"
            ]
          },
          "metadata": {
            "tags": []
          },
          "execution_count": 3
        }
      ]
    },
    {
      "metadata": {
        "id": "wPYAnx4HppE_",
        "colab_type": "code",
        "colab": {
          "base_uri": "https://localhost:8080/",
          "height": 425
        },
        "outputId": "7f8ef6bd-ca01-485f-cd68-a7dee3cd203a"
      },
      "cell_type": "code",
      "source": [
        "import os\n",
        "\n",
        "os.listdir(\"..\")"
      ],
      "execution_count": 4,
      "outputs": [
        {
          "output_type": "execute_result",
          "data": {
            "text/plain": [
              "['sys',\n",
              " 'dev',\n",
              " 'usr',\n",
              " 'etc',\n",
              " 'var',\n",
              " 'srv',\n",
              " 'bin',\n",
              " 'mnt',\n",
              " 'media',\n",
              " 'lib64',\n",
              " 'opt',\n",
              " 'run',\n",
              " 'proc',\n",
              " 'home',\n",
              " 'sbin',\n",
              " 'tmp',\n",
              " 'root',\n",
              " 'boot',\n",
              " 'lib',\n",
              " '.dockerenv',\n",
              " 'content',\n",
              " 'colabtools',\n",
              " 'tools',\n",
              " 'datalab']"
            ]
          },
          "metadata": {
            "tags": []
          },
          "execution_count": 4
        }
      ]
    },
    {
      "metadata": {
        "id": "1WYj4sfipsPH",
        "colab_type": "code",
        "colab": {
          "base_uri": "https://localhost:8080/",
          "height": 1462
        },
        "outputId": "8048896e-8598-4cec-e03e-b6a3fbad4b8d"
      },
      "cell_type": "code",
      "source": [
        "import os\n",
        "\n",
        "os.listdir(\"../bin\")"
      ],
      "execution_count": 5,
      "outputs": [
        {
          "output_type": "execute_result",
          "data": {
            "text/plain": [
              "['dd',\n",
              " 'mv',\n",
              " 'nisdomainname',\n",
              " 'gzexe',\n",
              " 'fgrep',\n",
              " 'ln',\n",
              " 'zgrep',\n",
              " 'bzgrep',\n",
              " 'pwd',\n",
              " 'znew',\n",
              " 'sh',\n",
              " 'readlink',\n",
              " 'bzcat',\n",
              " 'hostname',\n",
              " 'zcat',\n",
              " 'chown',\n",
              " 'bzdiff',\n",
              " 'sh.distrib',\n",
              " 'true',\n",
              " 'bzless',\n",
              " 'tar',\n",
              " 'egrep',\n",
              " 'echo',\n",
              " 'stty',\n",
              " 'vdir',\n",
              " 'cp',\n",
              " 'domainname',\n",
              " 'sync',\n",
              " 'dnsdomainname',\n",
              " 'zmore',\n",
              " 'lsblk',\n",
              " 'wdctl',\n",
              " 'bzmore',\n",
              " 'grep',\n",
              " 'tempfile',\n",
              " 'gunzip',\n",
              " 'findmnt',\n",
              " 'mount',\n",
              " 'mkdir',\n",
              " 'rmdir',\n",
              " 'rbash',\n",
              " 'bzegrep',\n",
              " 'zdiff',\n",
              " 'login',\n",
              " 'touch',\n",
              " 'run-parts',\n",
              " 'ypdomainname',\n",
              " 'uname',\n",
              " 'ls',\n",
              " 'bzfgrep',\n",
              " 'bunzip2',\n",
              " 'ps',\n",
              " 'chmod',\n",
              " 'df',\n",
              " 'which',\n",
              " 'zegrep',\n",
              " 'mknod',\n",
              " 'date',\n",
              " 'kill',\n",
              " 'bzexe',\n",
              " 'zcmp',\n",
              " 'gzip',\n",
              " 'cat',\n",
              " 'pidof',\n",
              " 'zfgrep',\n",
              " 'umount',\n",
              " 'dir',\n",
              " 'bzcmp',\n",
              " 'su',\n",
              " 'more',\n",
              " 'bash',\n",
              " 'zforce',\n",
              " 'dash',\n",
              " 'zless',\n",
              " 'dmesg',\n",
              " 'chgrp',\n",
              " 'sed',\n",
              " 'bzip2',\n",
              " 'sleep',\n",
              " 'false',\n",
              " 'mktemp',\n",
              " 'uncompress',\n",
              " 'rm',\n",
              " 'bzip2recover',\n",
              " 'mountpoint']"
            ]
          },
          "metadata": {
            "tags": []
          },
          "execution_count": 5
        }
      ]
    },
    {
      "metadata": {
        "id": "DXuqLB5j2nAw",
        "colab_type": "code",
        "colab": {
          "base_uri": "https://localhost:8080/",
          "height": 170
        },
        "outputId": "8acbc77c-7167-4392-95ca-4ad984c7774b"
      },
      "cell_type": "code",
      "source": [
        "# -*- coding: UTF-8 -*-\n",
        " \n",
        "# Filename : test.py\n",
        "# author by : www.runoob.com\n",
        " \n",
        "# 九九乘法表\n",
        "for i in range(1, 10):\n",
        "    for j in range(1, i+1):\n",
        "        print('{}x{}={}\\t'.format(j, i, i*j), end='')\n",
        "    print()"
      ],
      "execution_count": 8,
      "outputs": [
        {
          "output_type": "stream",
          "text": [
            "1x1=1\t\n",
            "1x2=2\t2x2=4\t\n",
            "1x3=3\t2x3=6\t3x3=9\t\n",
            "1x4=4\t2x4=8\t3x4=12\t4x4=16\t\n",
            "1x5=5\t2x5=10\t3x5=15\t4x5=20\t5x5=25\t\n",
            "1x6=6\t2x6=12\t3x6=18\t4x6=24\t5x6=30\t6x6=36\t\n",
            "1x7=7\t2x7=14\t3x7=21\t4x7=28\t5x7=35\t6x7=42\t7x7=49\t\n",
            "1x8=8\t2x8=16\t3x8=24\t4x8=32\t5x8=40\t6x8=48\t7x8=56\t8x8=64\t\n",
            "1x9=9\t2x9=18\t3x9=27\t4x9=36\t5x9=45\t6x9=54\t7x9=63\t8x9=72\t9x9=81\t\n"
          ],
          "name": "stdout"
        }
      ]
    },
    {
      "metadata": {
        "id": "iBgsOBx130zn",
        "colab_type": "code",
        "colab": {
          "base_uri": "https://localhost:8080/",
          "height": 51
        },
        "outputId": "b4da9cec-62f9-41e5-f7ab-a6d02da6a323"
      },
      "cell_type": "code",
      "source": [
        "# -*- coding: UTF-8 -*-\n",
        " \n",
        "# Filename : test.py\n",
        "# author by : www.runoob.com\n",
        " \n",
        "num = float(input('请输入一个数字： '))\n",
        "num_sqrt = num ** 0.5\n",
        "print(' %0.3f 的平方根为 %0.3f'%(num ,num_sqrt))"
      ],
      "execution_count": 10,
      "outputs": [
        {
          "output_type": "stream",
          "text": [
            "请输入一个数字： 69\n",
            " 69.000 的平方根为 8.307\n"
          ],
          "name": "stdout"
        }
      ]
    },
    {
      "metadata": {
        "id": "spu5Jcwv4DHp",
        "colab_type": "code",
        "colab": {
          "base_uri": "https://localhost:8080/",
          "height": 51
        },
        "outputId": "74903628-e6fa-46e4-8a2a-a65cae82af0f"
      },
      "cell_type": "code",
      "source": [
        "# -*- coding: UTF-8 -*-\n",
        " \n",
        "# Filename : test.py\n",
        "# author by : www.runoob.com\n",
        " \n",
        "# 用户输入摄氏温度\n",
        " \n",
        "# 接收用户输入\n",
        "celsius = float(input('输入摄氏温度: '))\n",
        " \n",
        "# 计算华氏温度\n",
        "fahrenheit = (celsius * 1.8) + 32\n",
        "print('%0.1f 摄氏温度转为华氏温度为 %0.1f ' %(celsius,fahrenheit))"
      ],
      "execution_count": 11,
      "outputs": [
        {
          "output_type": "stream",
          "text": [
            "输入摄氏温度: 38\n",
            "38.0 摄氏温度转为华氏温度为 100.4 \n"
          ],
          "name": "stdout"
        }
      ]
    },
    {
      "metadata": {
        "id": "RJsdRBT_4JxX",
        "colab_type": "code",
        "colab": {
          "base_uri": "https://localhost:8080/",
          "height": 102
        },
        "outputId": "b83ed47a-ea11-457f-aec7-8d8cbbcd91f8"
      },
      "cell_type": "code",
      "source": [
        "# -*- coding: UTF-8 -*-\n",
        " \n",
        "# Filename : test.py\n",
        "# author by : www.runoob.com\n",
        " \n",
        "# 获取用户输入十进制数\n",
        "dec = int(input(\"输入数字：\"))\n",
        " \n",
        "print(\"十进制数为：\", dec)\n",
        "print(\"转换为二进制为：\", bin(dec))\n",
        "print(\"转换为八进制为：\", oct(dec))\n",
        "print(\"转换为十六进制为：\", hex(dec))"
      ],
      "execution_count": 12,
      "outputs": [
        {
          "output_type": "stream",
          "text": [
            "输入数字：69\n",
            "十进制数为： 69\n",
            "转换为二进制为： 0b1000101\n",
            "转换为八进制为： 0o105\n",
            "转换为十六进制为： 0x45\n"
          ],
          "name": "stdout"
        }
      ]
    },
    {
      "metadata": {
        "id": "JlG5cq1d4PuY",
        "colab_type": "code",
        "colab": {
          "base_uri": "https://localhost:8080/",
          "height": 85
        },
        "outputId": "11807380-bf2c-4e77-e27e-1ce28a144027"
      },
      "cell_type": "code",
      "source": [
        "# Filename : test.py\n",
        "# author by : www.runoob.com\n",
        " \n",
        "# 用户输入字符\n",
        "c = input(\"请输入一个字符: \")\n",
        " \n",
        "# 用户输入ASCII码，并将输入的数字转为整型\n",
        "a = int(input(\"请输入一个ASCII码: \"))\n",
        " \n",
        " \n",
        "print( c + \" 的ASCII 码为\", ord(c))\n",
        "print( a , \" 对应的字符为\", chr(a))"
      ],
      "execution_count": 13,
      "outputs": [
        {
          "output_type": "stream",
          "text": [
            "请输入一个字符: a\n",
            "请输入一个ASCII码: 85\n",
            "a 的ASCII 码为 97\n",
            "85  对应的字符为 U\n"
          ],
          "name": "stdout"
        }
      ]
    },
    {
      "metadata": {
        "id": "tWbdTsRW4X9f",
        "colab_type": "code",
        "colab": {
          "base_uri": "https://localhost:8080/",
          "height": 34
        },
        "outputId": "cf96c9fd-045c-47fd-a59a-bd8c15e45948"
      },
      "cell_type": "code",
      "source": [
        "#!/usr/bin/python3\n",
        "# author by : www.runoob.com\n",
        " \n",
        "import calendar\n",
        "monthRange = calendar.monthrange(2016,9)\n",
        "print(monthRange)"
      ],
      "execution_count": 14,
      "outputs": [
        {
          "output_type": "stream",
          "text": [
            "(3, 30)\n"
          ],
          "name": "stdout"
        }
      ]
    },
    {
      "metadata": {
        "id": "Reyq-8Zj4dhn",
        "colab_type": "code",
        "colab": {
          "base_uri": "https://localhost:8080/",
          "height": 187
        },
        "outputId": "6e40af02-409f-4008-a1ef-ba8793f17f16"
      },
      "cell_type": "code",
      "source": [
        "# Filename : test.py\n",
        "# author by : www.runoob.com\n",
        " \n",
        "# 引入日历模块\n",
        "import calendar\n",
        " \n",
        "# 输入指定年月\n",
        "yy = int(input(\"输入年份: \"))\n",
        "mm = int(input(\"输入月份: \"))\n",
        " \n",
        "# 显示日历\n",
        "print(calendar.month(yy,mm))"
      ],
      "execution_count": 15,
      "outputs": [
        {
          "output_type": "stream",
          "text": [
            "输入年份: 2000\n",
            "输入月份: 2\n",
            "   February 2000\n",
            "Mo Tu We Th Fr Sa Su\n",
            "    1  2  3  4  5  6\n",
            " 7  8  9 10 11 12 13\n",
            "14 15 16 17 18 19 20\n",
            "21 22 23 24 25 26 27\n",
            "28 29\n",
            "\n"
          ],
          "name": "stdout"
        }
      ]
    },
    {
      "metadata": {
        "id": "npCiz8X04ln3",
        "colab_type": "code",
        "colab": {
          "base_uri": "https://localhost:8080/",
          "height": 34
        },
        "outputId": "28c05d79-e8aa-4822-d3ee-2590f25d3865"
      },
      "cell_type": "code",
      "source": [
        "# -*- coding: UTF-8 -*-\n",
        " \n",
        "# Filename : test.py\n",
        "# author by : www.runoob.com\n",
        " \n",
        "# 生成 0 ~ 9 之间的随机数\n",
        " \n",
        "# 导入 random(随机数) 模块\n",
        "import random\n",
        " \n",
        "print(random.randint(0,9))"
      ],
      "execution_count": 16,
      "outputs": [
        {
          "output_type": "stream",
          "text": [
            "8\n"
          ],
          "name": "stdout"
        }
      ]
    },
    {
      "metadata": {
        "id": "lci1wvD44pOP",
        "colab_type": "code",
        "colab": {
          "base_uri": "https://localhost:8080/",
          "height": 51
        },
        "outputId": "93867bde-b858-4794-805d-dda7c463b8ce"
      },
      "cell_type": "code",
      "source": [
        "# Filename : test.py\n",
        "# author by : www.runoob.com\n",
        " \n",
        "# 用户输入数字\n",
        " \n",
        "num = float(input(\"输入一个数字: \"))\n",
        "if num > 0:\n",
        "   print(\"正数\")\n",
        "elif num == 0:\n",
        "   print(\"零\")\n",
        "else:\n",
        "   print(\"负数\")"
      ],
      "execution_count": 17,
      "outputs": [
        {
          "output_type": "stream",
          "text": [
            "输入一个数字: -8\n",
            "负数\n"
          ],
          "name": "stdout"
        }
      ]
    },
    {
      "metadata": {
        "id": "j1UhFp0A4ttP",
        "colab_type": "code",
        "colab": {
          "base_uri": "https://localhost:8080/",
          "height": 51
        },
        "outputId": "b1f33158-25fd-48e5-ad0b-b9cc39a43c7d"
      },
      "cell_type": "code",
      "source": [
        "#!/usr/bin/python3\n",
        " \n",
        "# Filename : test.py\n",
        "# author by : www.runoob.com\n",
        " \n",
        "# 通过用户输入数字计算阶乘\n",
        " \n",
        "# 获取用户输入的数字\n",
        "num = int(input(\"请输入一个数字: \"))\n",
        "factorial = 1\n",
        " \n",
        "# 查看数字是负数，0 或 正数\n",
        "if num < 0:\n",
        "   print(\"抱歉，负数没有阶乘\")\n",
        "elif num == 0:\n",
        "   print(\"0 的阶乘为 1\")\n",
        "else:\n",
        "   for i in range(1,num + 1):\n",
        "       factorial = factorial*i\n",
        "   print(\"%d 的阶乘为 %d\" %(num,factorial))"
      ],
      "execution_count": 4,
      "outputs": [
        {
          "output_type": "stream",
          "text": [
            "请输入一个数字: 5\n",
            "5 的阶乘为 120\n"
          ],
          "name": "stdout"
        }
      ]
    },
    {
      "metadata": {
        "id": "bS8_vTiP0lMX",
        "colab_type": "text"
      },
      "cell_type": "markdown",
      "source": [
        "### Chapter 1\n",
        "這是我的第一章練習"
      ]
    },
    {
      "metadata": {
        "id": "QJxkUO8WxdcI",
        "colab_type": "code",
        "colab": {
          "base_uri": "https://localhost:8080/",
          "height": 51
        },
        "outputId": "103f54f3-3ec2-49b5-916b-b1a5486a8741"
      },
      "cell_type": "code",
      "source": [
        "# Display two messages\n",
        "print(\"這是我的python作業\")\n",
        "print(\"Python 真有趣\")\n",
        "\n"
      ],
      "execution_count": 18,
      "outputs": [
        {
          "output_type": "stream",
          "text": [
            "這是我的python作業\n",
            "Python 真有趣\n"
          ],
          "name": "stdout"
        }
      ]
    },
    {
      "metadata": {
        "id": "XyrU2i3fz414",
        "colab_type": "code",
        "colab": {
          "base_uri": "https://localhost:8080/",
          "height": 68
        },
        "outputId": "a0b3722b-6fbe-4acb-9763-94844f8bc27d"
      },
      "cell_type": "code",
      "source": [
        "# Display two messages\n",
        "print(\"這是我的python作業\")\n",
        "print(\"Python 真有趣\")\n",
        "print(\"偉大恩師\")  \n"
      ],
      "execution_count": 19,
      "outputs": [
        {
          "output_type": "stream",
          "text": [
            "這是我的python作業\n",
            "Python 真有趣\n",
            "偉大恩師\n"
          ],
          "name": "stdout"
        }
      ]
    },
    {
      "metadata": {
        "colab_type": "text",
        "id": "SDsoeYYk2mFp"
      },
      "cell_type": "markdown",
      "source": [
        "### Chapter 2\n",
        "這是我的第二章練習"
      ]
    },
    {
      "metadata": {
        "id": "WA7rseCK3N6n",
        "colab_type": "code",
        "colab": {
          "base_uri": "https://localhost:8080/",
          "height": 34
        },
        "outputId": "4e61dcc6-e620-4d4d-eaed-12079fd5adb8"
      },
      "cell_type": "code",
      "source": [
        "# Assign a radius\n",
        "radius = 28 # radius is now 20\n",
        "\n",
        "# Compute area\n",
        "area = radius * radius * 3.14159\n",
        "\n",
        "# Display results\n",
        "print(\"The area for the circle of radius\", radius, \"is\", area)"
      ],
      "execution_count": 21,
      "outputs": [
        {
          "output_type": "stream",
          "text": [
            "The area for the circle of radius 28 is 2463.00656\n"
          ],
          "name": "stdout"
        }
      ]
    },
    {
      "metadata": {
        "id": "kDxSvIKG3pfB",
        "colab_type": "code",
        "colab": {
          "base_uri": "https://localhost:8080/",
          "height": 51
        },
        "outputId": "e258dfe2-4c80-40eb-ffab-8bac84aa3b49"
      },
      "cell_type": "code",
      "source": [
        "# Prompt the user to enter a radius\n",
        "radius = eval(input(\"Enter a number for radius: \"))\n",
        "\n",
        "# Compute area\n",
        "#啥挖歌 跨某\n",
        "area = radius * radius * 20178\n",
        "\n",
        "# Display results\n",
        "print(\"The area for the circle of radius\", radius, \"is\", area)\n"
      ],
      "execution_count": 26,
      "outputs": [
        {
          "output_type": "stream",
          "text": [
            "Enter a number for radius: 20\n",
            "The area for the circle of radius 20 is 8071200\n"
          ],
          "name": "stdout"
        }
      ]
    },
    {
      "metadata": {
        "id": "lrDI1dJd38Vo",
        "colab_type": "code",
        "colab": {
          "base_uri": "https://localhost:8080/",
          "height": 85
        },
        "outputId": "edb7f23a-ece0-4007-9973-33129a2357ae"
      },
      "cell_type": "code",
      "source": [
        "# Prompt the user to enter three numbers\n",
        "number1 = eval(input(\"Enter the first number: \"))\n",
        "number2 = eval(input(\"Enter the second number: \"))\n",
        "number3 = eval(input(\"Enter the third number: \"))\n",
        "\n",
        "# Compute average\n",
        "#啥挖歌 跨某\n",
        "average = (number1 + number2 + number3) / 3\n",
        "\n",
        "# Display result\n",
        "print(\"The average of\", number1, number2, number3, \n",
        "    \"is\", average)\n"
      ],
      "execution_count": 25,
      "outputs": [
        {
          "output_type": "stream",
          "text": [
            "Enter the first number: 64\n",
            "Enter the second number: 823\n",
            "Enter the third number: 911\n",
            "The average of 64 823 911 is 599.3333333333334\n"
          ],
          "name": "stdout"
        }
      ]
    }
  ]
}